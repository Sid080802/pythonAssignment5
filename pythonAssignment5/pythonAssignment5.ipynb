{
 "cells": [
  {
   "cell_type": "markdown",
   "id": "9e2ae5e1",
   "metadata": {},
   "source": [
    "### 1. Write a Python Program to Find LCM."
   ]
  },
  {
   "cell_type": "code",
   "execution_count": 4,
   "id": "a8b668b2",
   "metadata": {},
   "outputs": [
    {
     "name": "stdout",
     "output_type": "stream",
     "text": [
      "Enter first number: 27\n",
      "Enter second number: 130\n",
      "LCM of entered number is: 3510\n"
     ]
    }
   ],
   "source": [
    "def find_lcm(x, y):\n",
    "    if x > y:\n",
    "        greater = y\n",
    "    else:\n",
    "        greater = x\n",
    "    \n",
    "    while True:\n",
    "        if(greater%x==0) and (greater%y==0):\n",
    "            lcm = greater\n",
    "            break\n",
    "        greater += 1\n",
    "        \n",
    "    return lcm\n",
    "\n",
    "num1 = int(input(\"Enter first number: \"))\n",
    "num2 = int(input(\"Enter second number: \"))\n",
    "\n",
    "print(f\"LCM of entered number is: {find_lcm(num1, num2)}\")\n",
    "        "
   ]
  },
  {
   "cell_type": "markdown",
   "id": "0665a00d",
   "metadata": {},
   "source": [
    "### 2. Write a Python Program to Find HCF."
   ]
  },
  {
   "cell_type": "code",
   "execution_count": 7,
   "id": "a4e01bfe",
   "metadata": {},
   "outputs": [
    {
     "name": "stdout",
     "output_type": "stream",
     "text": [
      "Enter first number: 54\n",
      "Enter second number: 24\n",
      "HCF of entered number is 6\n"
     ]
    }
   ],
   "source": [
    "def find_hcf(x, y):\n",
    "    if x<y:\n",
    "        smaller = x\n",
    "    else:\n",
    "        smaller = y\n",
    "        \n",
    "    for i in range(1, smaller+1):\n",
    "        if(x%i==0) and (y%i==0):\n",
    "            hcf = i\n",
    "    return hcf\n",
    "\n",
    "num1 = int(input(\"Enter first number: \"))\n",
    "num2 = int(input(\"Enter second number: \"))\n",
    "\n",
    "print(f\"HCF of entered number is {find_hcf(num1, num2)}\")"
   ]
  },
  {
   "cell_type": "markdown",
   "id": "76013b42",
   "metadata": {},
   "source": [
    "### 3. Write a Python Program to Convert Decimal to Binary, Octal and Hexadecimal."
   ]
  },
  {
   "cell_type": "code",
   "execution_count": 10,
   "id": "f65a5f57",
   "metadata": {},
   "outputs": [
    {
     "name": "stdout",
     "output_type": "stream",
     "text": [
      "Enter Decimal Number: 344\n",
      "Decimal Number is 344\n",
      "Conversion of Decimal to Binary is 0b101011000\n",
      "Conversion of Decimal to Octal is 0o530\n",
      "Conversion of Decimal to Hexadecimal is 0x158\n"
     ]
    }
   ],
   "source": [
    "dec = int(input(\"Enter Decimal Number: \"))\n",
    "print(f\"Decimal Number is {dec}\")\n",
    "print(f\"Conversion of Decimal to Binary is {bin(dec)}\")\n",
    "print(f\"Conversion of Decimal to Octal is {oct(dec)}\")\n",
    "print(f\"Conversion of Decimal to Hexadecimal is {hex(dec)}\")"
   ]
  },
  {
   "cell_type": "markdown",
   "id": "62904fac",
   "metadata": {},
   "source": [
    "### 4. Write a Python Program To Find ASCII value of a character."
   ]
  },
  {
   "cell_type": "code",
   "execution_count": 15,
   "id": "f2cfd48a",
   "metadata": {},
   "outputs": [
    {
     "name": "stdout",
     "output_type": "stream",
     "text": [
      "Enter character to find ASCII value: S\n",
      "ASCII value of S is 83\n"
     ]
    }
   ],
   "source": [
    "char = input(\"Enter character to find ASCII value: \")\n",
    "print(f\"ASCII value of {char} is {ord(char)}\")"
   ]
  },
  {
   "cell_type": "markdown",
   "id": "f4a4b0e0",
   "metadata": {},
   "source": [
    "### 5. Write a Python Program to Make a Simple Calculator with 4 basic mathematical operations."
   ]
  },
  {
   "cell_type": "code",
   "execution_count": 27,
   "id": "f80cbed9",
   "metadata": {},
   "outputs": [
    {
     "name": "stdout",
     "output_type": "stream",
     "text": [
      "Enter 1st number: 3\n",
      "Enter 2nd number: 8\n",
      "Enter operation (+, -, *, /): *\n",
      "Answer of 3.0 * 8.0 = 24.0\n"
     ]
    }
   ],
   "source": [
    "def addition(x, y):\n",
    "    print(f\"Answer of {num1} {operator} {num2} = {x+y}\")\n",
    "def substract(x,y):\n",
    "    print(f\"Answer of {num1} {operator} {num2} = {x-y}\")\n",
    "def multiply(x,y):\n",
    "    print(f\"Answer of {num1} {operator} {num2} = {x*y}\")\n",
    "def division(x,y):\n",
    "    print(f\"Answer of {num1} {operator} {num2} = {x/y}\")\n",
    "\n",
    "num1 = float(input(\"Enter 1st number: \"))\n",
    "num2 = float(input(\"Enter 2nd number: \"))\n",
    "operator = input(\"Enter operation (+, -, *, /): \")\n",
    "\n",
    "if operator == '+':\n",
    "    addition(num1,num2)\n",
    "elif operator == '-':\n",
    "    substract(num1,num2)\n",
    "elif operator == '*':\n",
    "    multiply(num1,num2)\n",
    "elif operator == '/':\n",
    "    division(num1,num2)"
   ]
  },
  {
   "cell_type": "code",
   "execution_count": null,
   "id": "90d11299",
   "metadata": {},
   "outputs": [],
   "source": []
  }
 ],
 "metadata": {
  "kernelspec": {
   "display_name": "Python 3 (ipykernel)",
   "language": "python",
   "name": "python3"
  },
  "language_info": {
   "codemirror_mode": {
    "name": "ipython",
    "version": 3
   },
   "file_extension": ".py",
   "mimetype": "text/x-python",
   "name": "python",
   "nbconvert_exporter": "python",
   "pygments_lexer": "ipython3",
   "version": "3.11.4"
  }
 },
 "nbformat": 4,
 "nbformat_minor": 5
}
